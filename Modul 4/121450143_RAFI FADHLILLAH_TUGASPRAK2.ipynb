{
 "cells": [
  {
   "cell_type": "markdown",
   "metadata": {
    "id": "ZFnnRzziGmWJ"
   },
   "source": [
    "# Exercise 1: A Good first program"
   ]
  },
  {
   "cell_type": "markdown",
   "metadata": {
    "id": "W_1O34kUHJ-F"
   },
   "source": [
    "## Jelaskan maksud kode per baris"
   ]
  },
  {
   "cell_type": "code",
   "execution_count": 1,
   "metadata": {
    "id": "kUHhArx1GjDO"
   },
   "outputs": [
    {
     "name": "stdout",
     "output_type": "stream",
     "text": [
      "Hello World!\n",
      "Hello Again\n",
      "I like typing this.\n",
      "This is fun.\n",
      "Yay! Printing.\n",
      "I'd much rather you 'not'.\n",
      "I \"said\" do not touch this.\n"
     ]
    }
   ],
   "source": [
    "print(\"Hello World!\")\n",
    "\n",
    "print(\"Hello Again\")\n",
    "print(\"I like typing this.\")\n",
    "print(\"This is fun.\")\n",
    "print('Yay! Printing.')\n",
    "print(\"I'd much rather you 'not'.\")\n",
    "print('I \"said\" do not touch this.')"
   ]
  },
  {
   "cell_type": "markdown",
   "metadata": {
    "id": "SF81PVAUHPeW"
   },
   "source": [
    "## Bagaimana cara supaya hanya mencetak baris pertama?"
   ]
  },
  {
   "cell_type": "raw",
   "metadata": {},
   "source": [
    "Dengan cara memberikan tanda #(octothorpe)"
   ]
  },
  {
   "cell_type": "code",
   "execution_count": 3,
   "metadata": {
    "id": "hnUARA6dHTgm"
   },
   "outputs": [
    {
     "name": "stdout",
     "output_type": "stream",
     "text": [
      "Hello World!\n"
     ]
    }
   ],
   "source": [
    "print(\"Hello World!\")\n",
    "\n",
    "#print(\"Hello Again\")\n",
    "#print(\"I like typing this.\")\n",
    "#print(\"This is fun.\")\n",
    "#print('Yay! Printing.')\n",
    "#print(\"I'd much rather you 'not'.\")\n",
    "#print('I \"said\" do not touch this.')"
   ]
  },
  {
   "cell_type": "markdown",
   "metadata": {
    "id": "dgYBT6dzHT5t"
   },
   "source": [
    "## Apakah fungsi dari simbol # (octothorpe)?"
   ]
  },
  {
   "cell_type": "raw",
   "metadata": {},
   "source": [
    "Berfungsi untuk memberikan komentar, dimana komentar ketika code di run dia tidak akan memunculkan output apapun contohnya seperti dibawah ini"
   ]
  },
  {
   "cell_type": "code",
   "execution_count": 4,
   "metadata": {
    "id": "eXsOtcaiHcN0"
   },
   "outputs": [],
   "source": [
    "#ini adalah komentar"
   ]
  },
  {
   "cell_type": "markdown",
   "metadata": {
    "id": "M_KPDHSGHgo2"
   },
   "source": [
    "# Exercise 2: Comments and Pound Character\n"
   ]
  },
  {
   "cell_type": "markdown",
   "metadata": {
    "id": "h_plF8hhHgo2"
   },
   "source": [
    "## Jelaskan maksud kode per baris"
   ]
  },
  {
   "cell_type": "code",
   "execution_count": 5,
   "metadata": {
    "id": "sNJCAqkpHgo2"
   },
   "outputs": [
    {
     "name": "stdout",
     "output_type": "stream",
     "text": [
      "I could have code like this.\n",
      "This will run.\n"
     ]
    }
   ],
   "source": [
    "# A comment, this is so you can read your program later.\n",
    "# Anything after the # is ignored by pyhton.\n",
    "\n",
    "print(\"I could have code like this.\")  # and the comment after is ignored\n",
    "\n",
    "# You can also use a comment to \"disable\" or comment out a piece of code:\n",
    "# print (\"This won't run.\")\n",
    "\n",
    "print(\"This will run.\")"
   ]
  },
  {
   "cell_type": "raw",
   "metadata": {},
   "source": [
    "Pada baris pertama kedua itu menjelaskan tentang fungsi simbol (#) yakni berfungsi untuk memberikan komentar \n",
    "dan code apapun setelah simbol (#) akan ditolak oleh python sehingga tidak menghasilkan output apapun\n",
    "\n",
    "Pada baris ketiga merupakan contoh ketika kalimat sebelah kiri tidak diawali dengan (#) maka akan muncul output (I could have code like this.)\n",
    "sedangkan kalimat sebelahnya diawali dengan (#) sehingga tidak mengoutputkan apapun\n",
    "\n",
    "pada baris 4 itu mencontohkan bahwa tanda (#) digunakan untuk komentar dan digunakan untuk mematikan code seperti yang ada di baris 5\n",
    "meskipun codenya sudah benar karena diawali (#) maka tetap tidak akan menghasilkan output apapun\n",
    "\n",
    "pada baris terakhir yakni baris 6 itu sekedar mencontohkan bahwa code nya berjalan dengan baik karena tidak diawali tanda (#)"
   ]
  },
  {
   "cell_type": "markdown",
   "metadata": {
    "id": "lB26TUnSHgo2"
   },
   "source": [
    "## Bagaimana supaya kode pada baris 7 dapat dieksekusi? Jalankan kodenya!"
   ]
  },
  {
   "cell_type": "raw",
   "metadata": {},
   "source": [
    "Dengan cara menghapus tanda (#) contohnya sebagai berikut"
   ]
  },
  {
   "cell_type": "code",
   "execution_count": 6,
   "metadata": {
    "id": "zGht_qGdHgo3"
   },
   "outputs": [
    {
     "name": "stdout",
     "output_type": "stream",
     "text": [
      "This won't run.\n"
     ]
    }
   ],
   "source": [
    "# print (\"This won't run.\")\n",
    "print (\"This won't run.\")"
   ]
  },
  {
   "cell_type": "markdown",
   "metadata": {
    "id": "3BWgtkrHHgo3"
   },
   "source": [
    "## Dimana saja simbol # (octothorpe) dapat digunakan? Berikan contoh!"
   ]
  },
  {
   "cell_type": "code",
   "execution_count": 8,
   "metadata": {
    "id": "Nc5Nb3waHgo3"
   },
   "outputs": [
    {
     "name": "stdout",
     "output_type": "stream",
     "text": [
      "Hello, World!\n",
      "Hello World!!!\n"
     ]
    }
   ],
   "source": [
    "#cara membuat hello world di python\n",
    "print(\"Hello, World!\")\n",
    "\n",
    "print(f\"Hello World!!!\") #cara lain"
   ]
  },
  {
   "cell_type": "markdown",
   "metadata": {
    "id": "GnrqihmQIF_c"
   },
   "source": [
    "# Exercise 3: Numbers and Math\n"
   ]
  },
  {
   "cell_type": "markdown",
   "metadata": {
    "id": "4sIKJ-BGIF_d"
   },
   "source": [
    "## Jelaskan maksud kode per baris"
   ]
  },
  {
   "cell_type": "code",
   "execution_count": 10,
   "metadata": {
    "id": "jlw9cjunIF_d"
   },
   "outputs": [
    {
     "name": "stdout",
     "output_type": "stream",
     "text": [
      "I will now count my chickens :\n",
      "Hens 30.0\n",
      "Roosters 97\n",
      "Now I will count the eggs:\n",
      "6.75\n",
      "Is it true that 3 + 2 < 5 - 7?\n",
      "False\n",
      "What is 3 + 2? 5\n",
      "What is 5 - 7? -2\n",
      "Oh, that's why it's false.\n",
      "How about some more.\n",
      "Is it greater? True\n",
      "Is it greater or equal? True\n",
      "Is it less or equal? False\n"
     ]
    }
   ],
   "source": [
    "#Numbers and Math\n",
    "\n",
    "#dibawah ini akan mengoutput perhitungan ayam\n",
    "print(\"I will now count my chickens :\") \n",
    "#dibawah ini akan menjalankan tipe data string dan integer\n",
    "print(\"Hens\", 25 + 30 / 6)\n",
    "#dibawah ini kita akan menjalankan tipe data string dan integer\n",
    "print(\"Roosters\", 100 - 25 * 3 % 4)\n",
    "#dibawah ini kita akan mengoutput \"Now I will count the eggs:\"\n",
    "print(\"Now I will count the eggs:\")\n",
    "\n",
    "#dibawah ini akan menjalankan operasi dimana mendahulukan modulo lalu pembagian dan disusul operasi tambah dan kurang dari urutan terdepan\n",
    "print(3 + 2 + 1 - 5 + 4 % 2 - 1 / 4 + 6)\n",
    "#dibawah ini kita menghitung apakah nilai 5 kurang dari 2, dan jawabannya false\n",
    "print(\"Is it true that 3 + 2 < 5 - 7?\")\n",
    "#dibawah ini merupakan hasil dari boolean yang jawabannya false\n",
    "print(3 + 2 < 5 -7)\n",
    "#dibawah ini mempertanyakan penjumlahan 3 + 2? \n",
    "print(\"What is 3 + 2?\", 3 + 2)\n",
    "# dibawah ini mempertanyakan berapa 5 - 7? lalu sampingnya akan muncul hasil\n",
    "print(\"What is 5 - 7?\", 5 - 7)\n",
    "#mengoutputkan teks \"Oh, that's why it's false.\n",
    "print(\"Oh, that's why it's false.\")\n",
    "#mengoutputkan teks \"How about some more.\"\n",
    "print(\"How about some more.\")\n",
    "#mengecek nilai nilai yang diberi operator yang menghasilkan boolean true or false\n",
    "print(\"Is it greater?\", 5 > -2)\n",
    "print(\"Is it greater or equal?\", 5 >= -2)\n",
    "print(\"Is it less or equal?\", 5 <= -2)"
   ]
  },
  {
   "cell_type": "markdown",
   "metadata": {
    "id": "1JemeyZkIF_e"
   },
   "source": [
    "## Jelaskan maksud tiap simbol matematika ini, beri contohnya!\n",
    "This exercise has lots of math symbols. \n",
    "\n",
    "\n",
    "```\n",
    "+ plus : operasi penjumlahan\n",
    "- minus : operasi pengurangan\n",
    "/ slash : operasi pembagian\n",
    "* asterisk : operasi perkalian\n",
    "% percent : operasi modulus atau sisa bagi\n",
    "< less-than : operator kurang dari\n",
    "> greater-than : operator lebih dari\n",
    "<= less-than-equal : operator kurang dari sama dengan\n",
    ">= greater-than-equal : operator lebih dari sama dengan\n",
    "```\n",
    "\n"
   ]
  },
  {
   "cell_type": "code",
   "execution_count": 13,
   "metadata": {
    "id": "oV8ul5YhIF_e"
   },
   "outputs": [
    {
     "name": "stdout",
     "output_type": "stream",
     "text": [
      "10 + 5 =  15\n",
      "40 - 23 =  17\n",
      "50 : 25 =  2.0\n",
      "4 x 3 =  12\n",
      "10 % 5 =  1\n",
      "Apakah 5 < 6 ? True\n",
      "Apakah 8 > 4 ? True\n",
      "Apakah 6 <= 4 ? False\n",
      "Apakah 7 >= 10 ? False\n"
     ]
    }
   ],
   "source": [
    "\n",
    "print(\"10 + 5 = \", 10+5)\n",
    "print(\"40 - 23 = \", 40-23)\n",
    "print(\"50 : 25 = \", 50/25)\n",
    "print(\"4 x 3 = \", 4*3)\n",
    "print(\"10 % 5 = \", 10%3)\n",
    "print(\"Apakah 5 < 6 ?\", 5<6)\n",
    "print(\"Apakah 8 > 4 ?\", 8>4)\n",
    "print(\"Apakah 6 <= 4 ?\", 6 <= 4)\n",
    "print(\"Apakah 7 >= 10 ?\", 7 >= 10)"
   ]
  },
  {
   "cell_type": "markdown",
   "metadata": {
    "id": "yjYucBkkIF_e"
   },
   "source": [
    "## Supaya lebih akurat, kita dapat menggunakan floating point. Edit baris 3 kode di atas sehingga tipe datanya menjadi float!"
   ]
  },
  {
   "cell_type": "code",
   "execution_count": 19,
   "metadata": {},
   "outputs": [
    {
     "name": "stdout",
     "output_type": "stream",
     "text": [
      "50 : 25 =  2.0\n"
     ]
    }
   ],
   "source": [
    "print(\"50 : 25 = \", 50/25)"
   ]
  },
  {
   "cell_type": "markdown",
   "metadata": {
    "id": "3tMQgwybJMPH"
   },
   "source": [
    "# Exercise 4: Variables and Name\n",
    "\n"
   ]
  },
  {
   "cell_type": "markdown",
   "metadata": {
    "id": "1m2uU1tRJMPH"
   },
   "source": [
    "## Jelaskan maksud kode per baris"
   ]
  },
  {
   "cell_type": "code",
   "execution_count": 25,
   "metadata": {
    "id": "3-s1CdOpJMPI"
   },
   "outputs": [
    {
     "ename": "SyntaxError",
     "evalue": "invalid decimal literal (2236490016.py, line 10)",
     "output_type": "error",
     "traceback": [
      "\u001b[1;36m  Input \u001b[1;32mIn [30]\u001b[1;36m\u001b[0m\n\u001b[1;33m    3passengers = 90\u001b[0m\n\u001b[1;37m    ^\u001b[0m\n\u001b[1;31mSyntaxError\u001b[0m\u001b[1;31m:\u001b[0m invalid decimal literal\n"
     ]
    }
   ],
   "source": [
    "#Variables and Names\n",
    "\n",
    "#menjadikan cars sebagai permisalan variabel dari 100\n",
    "cars = 100 \n",
    "#menjadikan space_in_a_car sebagai permisalan variabel dari 4.0\n",
    "space_in_a_car = 4.0\n",
    "#menjadikan drivers sebagai permisalan variabel dari 30\n",
    "drivers = 30\n",
    "#menjadikan variabel passengers sebagai permisalan 90\n",
    "3passengers = 90\n",
    "#melakukan permisalanu dengan melakukan operasi pengurangan ntuk mengetahui hasil dari cars_not_driven\n",
    "cars_not_driven = cars - drivers\n",
    "#bentuk persamaan cars_driven dengan drivers\n",
    "cars_driven = drivers\n",
    "#melakukan permisalan dengan melakukan operasi perkalian untuk mengetahui hasil dari carpool_capacity \n",
    "#carpool_capacity = cars_driven * space_in_a_car\n",
    "#melakukan permisalan dengan melakukan operasi pembagian untuk mengetahui hasil dari average_passengers_per_car\n",
    "average_passengers_per_car = passengers / cars_driven\n",
    "\n",
    "print(\"There are\", cars, \"cars available.\") ## outputnya adalah nilai cars\n",
    "print(\"There are only\", drivers, \" drivers available.\") ## outputnya adalah nilai drivers\n",
    "print(\"We can transport\", carpool_capacity, \"people today.\") ## outputnya adalah hasil perkalian antara cars_driven dan space_in_a_car\n",
    "print(\"We have\", passenger, \"tp carpool; today.\") ## outputnya adalah nilai passengers\n",
    "print(\"We need to put about\", average_passengers_per_car, \"in each car.\") ## outputnya adalah hasil pembagian dari passengers dan cars_driven\n"
   ]
  },
  {
   "cell_type": "markdown",
   "metadata": {
    "id": "UqP8fxwaJMPI"
   },
   "source": [
    "## Apakah kode di atas dapat dijalankan? Jika tidak, tolong perbaiki code di atas! \n",
    "\n"
   ]
  },
  {
   "cell_type": "raw",
   "metadata": {
    "id": "Q9PXAdCyJMPJ"
   },
   "source": [
    "Tidak, memperbaiki dengan cara menghilangkan tanda (#) diawal dan menambahkan s pada passenger"
   ]
  },
  {
   "cell_type": "code",
   "execution_count": 24,
   "metadata": {},
   "outputs": [
    {
     "name": "stdout",
     "output_type": "stream",
     "text": [
      "There are 100 cars available.\n",
      "There are only 30 drivers available.\n",
      "There will be 70 empty cars today\n",
      "We can transport 120.0 people today.\n",
      "We have 90 to carpool today.\n",
      "We need to put about 3.0 in each car.\n"
     ]
    }
   ],
   "source": [
    "cars = 100\n",
    "space_in_a_car = 4.0\n",
    "drivers = 30\n",
    "passengers = 90\n",
    "cars_not_driven = cars - drivers\n",
    "cars_driven = drivers\n",
    "carpool_capacity = cars_driven * space_in_a_car\n",
    "average_passengers_per_car = passengers / cars_driven\n",
    "\n",
    "print(\"There are\", cars, \"cars available.\")\n",
    "print(\"There are only\", drivers, \"drivers available.\")\n",
    "print(\"There will be\", cars_not_driven, \"empty cars today\")\n",
    "print(\"We can transport\", carpool_capacity, \"people today.\")\n",
    "print(\"We have\", passengers, \"to carpool today.\")\n",
    "print(\"We need to put about\", average_passengers_per_car, \"in each car.\")"
   ]
  },
  {
   "cell_type": "markdown",
   "metadata": {
    "id": "YMqkQcohJMPJ"
   },
   "source": [
    "## Pada variabel space_in_a_car, digunakan nilai 4.0 . Apakah akan terjadi error jika diubah menjadi 4? Apa yang terjadi? "
   ]
  },
  {
   "cell_type": "raw",
   "metadata": {},
   "source": [
    "Tidak terjadi Error, namun perbedaannya yakni pada code dibawah type data float menjadi integer"
   ]
  },
  {
   "cell_type": "code",
   "execution_count": 26,
   "metadata": {
    "id": "gd-iInD7JMPJ"
   },
   "outputs": [
    {
     "name": "stdout",
     "output_type": "stream",
     "text": [
      "There are 100 cars available.\n",
      "There are only 30 drivers available.\n",
      "There will be 70 empty cars today\n",
      "We can transport 120 people today.\n",
      "We have 90 to carpool today.\n",
      "We need to put about 3.0 in each car.\n"
     ]
    }
   ],
   "source": [
    "cars = 100\n",
    "space_in_a_car = 4\n",
    "drivers = 30\n",
    "passengers = 90\n",
    "cars_not_driven = cars - drivers\n",
    "cars_driven = drivers\n",
    "carpool_capacity = cars_driven * space_in_a_car\n",
    "average_passengers_per_car = passengers / cars_driven\n",
    "\n",
    "print(\"There are\", cars, \"cars available.\")\n",
    "print(\"There are only\", drivers, \"drivers available.\")\n",
    "print(\"There will be\", cars_not_driven, \"empty cars today\")\n",
    "print(\"We can transport\", carpool_capacity, \"people today.\")\n",
    "print(\"We have\", passengers, \"to carpool today.\")\n",
    "print(\"We need to put about\", average_passengers_per_car, \"in each car.\")"
   ]
  },
  {
   "cell_type": "markdown",
   "metadata": {
    "id": "mpOPwunzJHeP"
   },
   "source": [
    "## Apakah maksud dari simbol = dan bagaimana format penamaan variabel di Python? Berikan contohnya!"
   ]
  },
  {
   "cell_type": "raw",
   "metadata": {
    "id": "0b5GizDPKLCH"
   },
   "source": [
    "tanda \"=\" berfungsi untuk men assign atau mendefinisikan contohnya :"
   ]
  },
  {
   "cell_type": "code",
   "execution_count": 28,
   "metadata": {},
   "outputs": [
    {
     "name": "stdout",
     "output_type": "stream",
     "text": [
      "Jadi luas =  150000\n"
     ]
    }
   ],
   "source": [
    "panjang = 500\n",
    "lebar = 300\n",
    "luas = panjang * lebar\n",
    "print(\"Jadi luas = \",luas)"
   ]
  },
  {
   "cell_type": "markdown",
   "metadata": {
    "id": "v80B5ZQ9KTNy"
   },
   "source": [
    "# Exercise 5: More Variables and Printing"
   ]
  },
  {
   "cell_type": "markdown",
   "metadata": {
    "id": "gi7G4a_uKTNy"
   },
   "source": [
    "## Jelaskan maksud kode per baris"
   ]
  },
  {
   "cell_type": "code",
   "execution_count": null,
   "metadata": {
    "id": "kzGgrHDhKTNy"
   },
   "outputs": [
    {
     "name": "stdout",
     "output_type": "stream",
     "text": [
      "Let's talk about Zed A. Shaw.\n",
      "He's 74 inches tall.\n",
      "He's 180 pounds heavy.\n",
      "Actually that's not too heavy.\n",
      "He's got Blue eyes and Brown hair.\n",
      "His teeth are usually White depending on the coffee.\n",
      "If I add 35, 74, and 180 I get 289.\n"
     ]
    }
   ],
   "source": [
    "my_name = 'Zed A. Shaw'\n",
    "my_age = 35  # not a lie\n",
    "my_height = 74  # inches\n",
    "my_weight = 180  # lbs\n",
    "my_eyes = 'Blue'\n",
    "my_teeth = 'White'\n",
    "my_hair = 'Brown'\n",
    "\n",
    "print(f\"Let's talk about {my_name}.\") #mengoutput nilai variabel my_names\n",
    "print(f\"He's {my_height} inches tall.\")#mengoutput variabel variabel my_height\n",
    "print(f\"He's {my_weight} pounds heavy.\")#mengoutput variabel variabel my_weight\n",
    "print(\"Actually that's not too heavy.\")\n",
    "print(f\"He's got {my_eyes} eyes and {my_hair} hair.\")#mengoutput variabel my_eyes dan variabel my_hair\n",
    "print(f\"His teeth are usually {my_teeth} depending on the coffee.\")#mengoutput variabel my_teeth\n",
    "\n",
    "# this line is tricky, try to get it exactly right\n",
    "total = my_age + my_height + my_weight #mengoutput total dengan cara menjumlahkan variabel  my_age + my_height + my_weight\n",
    "print(f\"If I add {my_age}, {my_height}, and {my_weight} I get {total}.\") #fungsi f string untuk menyertakan exspresi python dalam string\n"
   ]
  },
  {
   "cell_type": "markdown",
   "metadata": {
    "id": "KWv_yA90KTNy"
   },
   "source": [
    "## Ubah semua variabel sehingga tidak ada my_ di depan masing-masing variabel. Pastikan Anda mengubah nama di mana-mana, bukan hanya di tempat Anda menggunakan = untuk mengaturnya.\n",
    "\n"
   ]
  },
  {
   "cell_type": "code",
   "execution_count": 33,
   "metadata": {
    "id": "abLnEv32KTNz"
   },
   "outputs": [
    {
     "name": "stdout",
     "output_type": "stream",
     "text": [
      "Let's talk about Zed A. Shaw.\n",
      "He's 74 inches tall.\n",
      "He's 180 pounds heavy.\n",
      "Actually that's not too heavy.\n",
      "He's got Blue eyes and Brown hair.\n",
      "His teeth are usually White depending on the coffee.\n",
      "If I add 35, 74, and 180 I get 289.\n"
     ]
    }
   ],
   "source": [
    "name = 'Zed A. Shaw'\n",
    "age = 35  # not a lie\n",
    "height = 74  # inches\n",
    "weight = 180  # lbs\n",
    "eyes = 'Blue'\n",
    "teeth = 'White'\n",
    "hair = 'Brown'\n",
    "\n",
    "print(f\"Let's talk about {my_name}.\")\n",
    "print(f\"He's {my_height} inches tall.\")\n",
    "print(f\"He's {my_weight} pounds heavy.\")\n",
    "print(\"Actually that's not too heavy.\")\n",
    "print(f\"He's got {my_eyes} eyes and {my_hair} hair.\")\n",
    "print(f\"His teeth are usually {my_teeth} depending on the coffee.\")\n",
    "\n",
    "# this line is tricky, try to get it exactly right\n",
    "total = my_age + my_height + my_weight\n",
    "print(f\"If I add {my_age}, {my_height}, and {my_weight} I get {total}.\")"
   ]
  },
  {
   "cell_type": "markdown",
   "metadata": {
    "id": "ibaIBNHuKTNz"
   },
   "source": [
    "## Cobalah untuk menulis beberapa variabel yang mengubah inci dan pound menjadi sentimeter dan kilogram."
   ]
  },
  {
   "cell_type": "code",
   "execution_count": 37,
   "metadata": {
    "id": "WoXzZxMyKTNz"
   },
   "outputs": [
    {
     "name": "stdout",
     "output_type": "stream",
     "text": [
      "Let's talk about Zed A. Shaw.\n",
      "He's 187.96 cm tall.\n",
      "He's 81.64746439263358 kg heavy.\n",
      "Actually that's not too heavy.\n",
      "He's got Blue eyes and Brown hair.\n",
      "His teeth are usually White depending on the coffee.\n",
      "If I add 35, 74, and 180 I get 289.\n"
     ]
    }
   ],
   "source": [
    "name = 'Zed A. Shaw'\n",
    "age = 35  # not a lie\n",
    "height = 74  # inches\n",
    "weight = 180  # lbs\n",
    "eyes = 'Blue'\n",
    "teeth = 'White'\n",
    "hair = 'Brown'\n",
    "\n",
    "print(f\"Let's talk about {my_name}.\")\n",
    "print(f\"He's {my_height*2.54} cm tall.\")\n",
    "print(f\"He's {my_weight/2.2046} kg heavy.\")\n",
    "print(\"Actually that's not too heavy.\")\n",
    "print(f\"He's got {my_eyes} eyes and {my_hair} hair.\")\n",
    "print(f\"His teeth are usually {my_teeth} depending on the coffee.\")\n",
    "\n",
    "# this line is tricky, try to get it exactly right\n",
    "total = my_age + my_height + my_weight\n",
    "print(f\"If I add {my_age}, {my_height}, and {my_weight} I get {total}.\")"
   ]
  },
  {
   "cell_type": "markdown",
   "metadata": {
    "id": "uE3N9ApYKTNz"
   },
   "source": [
    "## Bagaimana cara kerja format-string, atau f-string? Berikan contohnya!"
   ]
  },
  {
   "cell_type": "raw",
   "metadata": {
    "id": "1XjofeRgKTNz"
   },
   "source": [
    "String formatting memungkinkan kita untuk menyisipkan nilai suatu variabel ke dalam string daripada kita menggabungkan string menggunakan tanda koma atau tanda tambah (concatenation)."
   ]
  },
  {
   "cell_type": "code",
   "execution_count": 38,
   "metadata": {},
   "outputs": [
    {
     "name": "stdout",
     "output_type": "stream",
     "text": [
      "Nama saya Rafi dan umur saya 19 tahun\n"
     ]
    }
   ],
   "source": [
    "nama = \"Rafi\"\n",
    "usia = 19\n",
    "print(f\"Nama saya {nama} dan umur saya {usia} tahun\")"
   ]
  },
  {
   "cell_type": "markdown",
   "metadata": {
    "id": "sj88di8YLw7y"
   },
   "source": [
    "# Exercise 6: More Variables and Printing"
   ]
  },
  {
   "cell_type": "markdown",
   "metadata": {
    "id": "i691Sf8ULw7z"
   },
   "source": [
    "## Jelaskan maksud kode per baris"
   ]
  },
  {
   "cell_type": "code",
   "execution_count": 40,
   "metadata": {
    "id": "keEOS60OLw7z"
   },
   "outputs": [
    {
     "name": "stdout",
     "output_type": "stream",
     "text": [
      "There are 10 types of people.\n",
      "Those who know binary and those who don't.\n",
      "I said: There are 10 types of people.\n",
      "I also said : 'Those who know binary and those who don't.'.\n",
      "Isn't that joke so funny?! False\n",
      "This is the left side of...a string with a right side.\n"
     ]
    }
   ],
   "source": [
    "types_of_people = 10\n",
    "x = f\"There are {types_of_people} types of people.\"#ada fungsi f string\n",
    "\n",
    "binary = \"binary\"\n",
    "do_not = \"don't\"\n",
    "y = f\"Those who know {binary} and those who {do_not}.\"#ada fungsi f string\n",
    "\n",
    "print(x)\n",
    "print(y)\n",
    "\n",
    "print(f\"I said: {x}\")#ada fungsi f string\n",
    "print(f\"I also said : '{y}'.\")#ada fungsi f string\n",
    "\n",
    "\n",
    "hilarious = False\n",
    "joke_evaluation = \"Isn't that joke so funny?! {}\"\n",
    "\n",
    "print(joke_evaluation.format(hilarious)) #fungsi format digunakan untuk mengatur format string yang nantinya akan dicetak\n",
    "\n",
    "w = \"This is the left side of...\"\n",
    "e = \"a string with a right side.\"\n",
    "\n",
    "print(w + e)"
   ]
  },
  {
   "cell_type": "markdown",
   "metadata": {
    "id": "_Ff0lOyMLw7z"
   },
   "source": [
    "## Jika kita lihat di code, terdapat method .format pada object string. Apakah itu .method? Bagaimana cara kerjanya?\n",
    "\n"
   ]
  },
  {
   "cell_type": "raw",
   "metadata": {
    "id": "59owZHvhLw7z"
   },
   "source": [
    "String format() Method adalah fungsi yang digunakan untuk mengganti atau memodifikasi nilai string untuk di format melalui wadah placeholder."
   ]
  },
  {
   "cell_type": "markdown",
   "metadata": {
    "id": "WiWXdZxlLw7z"
   },
   "source": [
    "## Lihat pada baris terakhir pada kode di atas. Apa yang terjadi?"
   ]
  },
  {
   "cell_type": "raw",
   "metadata": {
    "id": "BJY0gJE1Lw7z"
   },
   "source": [
    "menjumlahkan string variabel w+e dengan hasil (This is the left side of...a string with a right side.) hasilnya string bergabung"
   ]
  },
  {
   "cell_type": "markdown",
   "metadata": {
    "id": "5y4yBvNBL2RZ"
   },
   "source": [
    "# Exercise 7: More Printing"
   ]
  },
  {
   "cell_type": "markdown",
   "metadata": {
    "id": "GQA3oqCcLvTD"
   },
   "source": [
    "## Jelaskan maksud kode per baris"
   ]
  },
  {
   "cell_type": "code",
   "execution_count": 43,
   "metadata": {
    "id": "3g445a-VLvTD"
   },
   "outputs": [
    {
     "name": "stdout",
     "output_type": "stream",
     "text": [
      "Mary had a little lamb.\n",
      "Its fleece was white as snow.\n",
      "And everywhere that Mary went.\n",
      "..........\n",
      "Cheese Burger\n"
     ]
    }
   ],
   "source": [
    "print(\"Mary had a little lamb.\")\n",
    "print(\"Its fleece was white as {}.\".format('snow'))\n",
    "print(\"And everywhere that Mary went.\")\n",
    "print(\".\" * 10)  #mengoutpot . sebanyak 10\n",
    "\n",
    "end1 = \"C\"\n",
    "end2 = \"h\"\n",
    "end3 = \"e\"\n",
    "end4 = \"e\"\n",
    "end5 = \"s\"\n",
    "end6 = \"e\"\n",
    "end7 = \"B\"\n",
    "end8 = \"u\"\n",
    "end9 = \"r\"\n",
    "end10 = \"g\"\n",
    "end11 = \"e\"\n",
    "end12 = \"r\"\n",
    "\n",
    "print(end1 + end2 + end3 + end4 + end5 + end6, end=' ')#akan mengoutput sesuai dengan variabelnya dan akan tersusun\n",
    "print(end7 + end8 + end9 + end10 + end11 + end12)#akan mengoutput sesuai dengan variabelnya dan akan tersusun"
   ]
  },
  {
   "cell_type": "markdown",
   "metadata": {
    "id": "RnNNwuZGLvTE"
   },
   "source": [
    "## Apakah yang terjadi pada baris ke empat pada kode di atas?\n",
    "\n"
   ]
  },
  {
   "cell_type": "raw",
   "metadata": {},
   "source": [
    "Artinya akan mengoutputkan titik (.) dikali 10 maka akan teroutputkan titik sebanyak 10 kali "
   ]
  },
  {
   "cell_type": "markdown",
   "metadata": {
    "id": "m7XKk5Q3LvTE"
   },
   "source": [
    "## Apakah maksud dari parameter end=' ' pada print()? "
   ]
  },
  {
   "cell_type": "raw",
   "metadata": {
    "id": "jvFYF_mgLvTE"
   },
   "source": [
    "Parameter end dalam fungsi print digunakan untuk menambahkan string apa pun. Di akhir output dari pernyataan print dengan python.\n",
    "\n",
    "Secara default, fungsi cetak diakhiri dengan baris baru.\n",
    "\n",
    "Melewati spasi putih ke parameter akhir (end=' ') menunjukkan bahwa karakter akhir harus diidentifikasi oleh spasi dan bukan baris baru."
   ]
  },
  {
   "cell_type": "markdown",
   "metadata": {
    "id": "U-T_614wMz9u"
   },
   "source": [
    "# Exercise 8: Printing, Printing"
   ]
  },
  {
   "cell_type": "markdown",
   "metadata": {
    "id": "57a96pgVMz9v"
   },
   "source": [
    "## Jelaskan maksud kode per baris"
   ]
  },
  {
   "cell_type": "code",
   "execution_count": null,
   "metadata": {
    "id": "OID-aC-GMz9v"
   },
   "outputs": [],
   "source": [
    "formatter = \"{} {} {} {}\"#variabel\n",
    "\n",
    "print(formatter.format(1, 2, 3, 4))\n",
    "print(formatter.format(\"one\", \"two\", \"three\", \"four\"))\n",
    "print(formatter.format(True, False, False, True))\n",
    "print(formatter.format(formatter, formatter, formatter, formatter))#fungsi format digunakan untuk mengatur format string yang nantinya akan dicetak\n",
    "print(formatter.format(\"Try your\",\n",
    "                       \"Own text here\",\n",
    "                       \"Maybe a poem\",\n",
    "                       \"Or a song about fear\"\n",
    "                       ))#yang akan dicetak dalam variabel formatter"
   ]
  },
  {
   "cell_type": "markdown",
   "metadata": {
    "id": "6ONWCJguNCh5"
   },
   "source": [
    "# Exercise 9: Printing, Printing, Printing"
   ]
  },
  {
   "cell_type": "markdown",
   "metadata": {
    "id": "erJyCZYQNCh6"
   },
   "source": [
    "## Jelaskan maksud kode per baris"
   ]
  },
  {
   "cell_type": "code",
   "execution_count": 44,
   "metadata": {
    "id": "AqRXzSEZNCh7"
   },
   "outputs": [
    {
     "name": "stdout",
     "output_type": "stream",
     "text": [
      "Here are the days: Mon Tue Wed Thu Fri Sat Sun\n",
      "Here are the months:  Jan\tFeb\tMar\tApr\tMay\tJun\tJul\tAug\n",
      "\n",
      "There's something going on here.\n",
      "With the three double-quotes.\n",
      "We'll be able to type as much as we like.\n",
      "Even 4 lines if we want, or 5, or 6.\n",
      "\n"
     ]
    }
   ],
   "source": [
    "# Here's some new strange stuff, remember type it exactly.\n",
    "\n",
    "days = \"Mon Tue Wed Thu Fri Sat Sun\"#variabel days\n",
    "months = \"Jan\\tFeb\\tMar\\tApr\\tMay\\tJun\\tJul\\tAug\"#variabel months\n",
    "\n",
    "# \"\\t\" -> new line  #line baru\n",
    "\n",
    "print(\"Here are the days:\", days)#mengoutput variabel days\n",
    "print(\"Here are the months: \", months)#mengoutput variabel months\n",
    "\n",
    "print(\"\"\"\n",
    "There's something going on here.\n",
    "With the three double-quotes.\n",
    "We'll be able to type as much as we like.\n",
    "Even 4 lines if we want, or 5, or 6.\n",
    "\"\"\")#tanda petik 3 digunakan untuk mengoutput apabila kalimatnya panjang"
   ]
  },
  {
   "cell_type": "markdown",
   "metadata": {
    "id": "ZthG8NhzNOL4"
   },
   "source": [
    "## Apakah maksud dari \\t pada kode di atas? "
   ]
  },
  {
   "cell_type": "raw",
   "metadata": {
    "id": "xpbveld_NMr4"
   },
   "source": [
    "\"\\t\" yg dimaksud berarti memberikan tab space. Jika diperhatikan ketika anda mengetikkan sesuatu di microsoft word, lalu menekan tombol tab,\n",
    "maka ada space yang cukup besar yang tercipta, nah fungsinya sama saja seperti itu."
   ]
  },
  {
   "cell_type": "markdown",
   "metadata": {
    "id": "elew7bZaNU5l"
   },
   "source": [
    "## Untuk membuat baris baru pada print, kita dapat menggunakan \\n. Apakah ada perbedaan jika menggunakan \\n dan \"\"\"?"
   ]
  },
  {
   "cell_type": "raw",
   "metadata": {
    "id": "NWXMRzV6Nb-L"
   },
   "source": [
    "“\\n” berarti new line, ini adalah kode untuk pindah baris. Hasilnya, teks akan bergeser ke kanan karena terdapat karakter “\\t” sebagai pengganti tab.\n",
    "sedangkan fungsi dari \"\"\" yakni untuk menulis kalimat yang panjang"
   ]
  },
  {
   "cell_type": "markdown",
   "metadata": {
    "id": "AOq96W3oNe92"
   },
   "source": [
    "# Exercise 10: What Was That?"
   ]
  },
  {
   "cell_type": "markdown",
   "metadata": {
    "id": "IPZJd0gaNe92"
   },
   "source": [
    "## Jelaskan maksud kode per baris"
   ]
  },
  {
   "cell_type": "code",
   "execution_count": 46,
   "metadata": {
    "id": "tlKKcKOiNe93"
   },
   "outputs": [
    {
     "name": "stdout",
     "output_type": "stream",
     "text": [
      "\tI'm tabbed in.\n",
      "I'm split\n",
      "on a line.\n",
      "I'm \\ a \\ cat.\n",
      "\n",
      "I'll do a list:\n",
      "\t* Cat food\n",
      "\t* fishies\n",
      "\t* Catnip\n",
      "\t* Grass\n",
      "\n"
     ]
    }
   ],
   "source": [
    "# sub bab what was that\n",
    "\n",
    "#fungsi backslash digunakan pada ketiga baris untuk menghasilkan ouput untuk baris baru\n",
    "tabby_cat = \"\\tI'm tabbed in.\"\n",
    "persian_cat = \"I'm split\\non a line.\"\n",
    "backslash_cat=\"I'm \\\\ a \\\\ cat.\"\n",
    "\n",
    "##format escape digunakan untuk menampilkan karakter dalam output\n",
    "fat_cat=\"\"\"\n",
    "I'll do a list:\n",
    "\\t* Cat food\n",
    "\\t* fishies\n",
    "\\t* Catnip\n",
    "\\t* Grass\n",
    "\"\"\"\n",
    "\n",
    "##memasukkan print untuk menghasilkan ouput\n",
    "print(tabby_cat)\n",
    "print(persian_cat)\n",
    "print(backslash_cat)\n",
    "print(fat_cat)"
   ]
  },
  {
   "cell_type": "markdown",
   "metadata": {
    "id": "AH30J2vWNe93"
   },
   "source": [
    "## Apakah escape character itu?"
   ]
  },
  {
   "cell_type": "raw",
   "metadata": {
    "id": "0-BUnByiNe93"
   },
   "source": [
    "Escape Character digunakan untuk memasukkan karakter yang ilegal ke dalam string menggunakan backslash \\ diikuti dengan karakter yang ingin diinputkan.\n",
    "\n",
    "Contoh dari karakter escape ini adalah saat kita memasukkan tanda petik dua ke dalam string yang diapit oleh tanda petik dua:"
   ]
  },
  {
   "cell_type": "markdown",
   "metadata": {
    "id": "UFHxVjIUNvHp"
   },
   "source": [
    "## Bayangkan kita mempunyai kode \n",
    "\n",
    "\n",
    "```\n",
    "tabby_cat = 'I'm tabbed in.'\n",
    "```\n",
    "yang jika dijalankan akan menghasilkan error. Bagaimana cara untuk mengatasi hal tersebut menggunakan escape character?\n"
   ]
  },
  {
   "cell_type": "code",
   "execution_count": 49,
   "metadata": {
    "id": "C4schOA1N7ZM"
   },
   "outputs": [],
   "source": [
    "tabby_cat = 'I\\'m\\ tabbed in.'"
   ]
  }
 ],
 "metadata": {
  "colab": {
   "collapsed_sections": [
    "ZFnnRzziGmWJ",
    "M_KPDHSGHgo2"
   ],
   "provenance": []
  },
  "kernelspec": {
   "display_name": "Python 3 (ipykernel)",
   "language": "python",
   "name": "python3"
  },
  "language_info": {
   "codemirror_mode": {
    "name": "ipython",
    "version": 3
   },
   "file_extension": ".py",
   "mimetype": "text/x-python",
   "name": "python",
   "nbconvert_exporter": "python",
   "pygments_lexer": "ipython3",
   "version": "3.10.4"
  }
 },
 "nbformat": 4,
 "nbformat_minor": 4
}
