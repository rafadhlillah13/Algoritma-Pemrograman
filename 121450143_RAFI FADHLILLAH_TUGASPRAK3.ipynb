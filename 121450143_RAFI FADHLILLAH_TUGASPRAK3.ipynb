{
 "cells": [
  {
   "cell_type": "markdown",
   "metadata": {
    "id": "ZFnnRzziGmWJ"
   },
   "source": [
    "# Exercise 11: Asking Questions"
   ]
  },
  {
   "cell_type": "markdown",
   "metadata": {
    "id": "W_1O34kUHJ-F"
   },
   "source": [
    "## Jelaskan maksud kode per baris"
   ]
  },
  {
   "cell_type": "code",
   "execution_count": 27,
   "metadata": {
    "id": "kUHhArx1GjDO"
   },
   "outputs": [
    {
     "name": "stdout",
     "output_type": "stream",
     "text": [
      "How old are you? "
     ]
    },
    {
     "name": "stdin",
     "output_type": "stream",
     "text": [
      " 111\n"
     ]
    },
    {
     "name": "stdout",
     "output_type": "stream",
     "text": [
      "How tall are you? "
     ]
    },
    {
     "name": "stdin",
     "output_type": "stream",
     "text": [
      " 1111\n"
     ]
    },
    {
     "name": "stdout",
     "output_type": "stream",
     "text": [
      "How much do you weight? "
     ]
    },
    {
     "name": "stdin",
     "output_type": "stream",
     "text": [
      " 111111\n"
     ]
    },
    {
     "name": "stdout",
     "output_type": "stream",
     "text": [
      "So, you're 111 old, 1111 tall and 111111 heavy.\n"
     ]
    }
   ],
   "source": [
    "print(\"How old are you?\", end=' ')\n",
    "age = input()\n",
    "print(\"How tall are you?\", end=' ')\n",
    "height = input()\n",
    "print(\"How much do you weight?\", end=' ')\n",
    "weight = input()\n",
    "\n",
    "print(f\"So, you're {age} old, {height} tall and {weight} heavy.\")"
   ]
  },
  {
   "cell_type": "markdown",
   "metadata": {
    "id": "SF81PVAUHPeW"
   },
   "source": [
    "## Ada yang aneh? Apakah fungsi dari kode **input()**?\n",
    "\n"
   ]
  },
  {
   "cell_type": "markdown",
   "metadata": {
    "id": "hnUARA6dHTgm"
   },
   "source": [
    "Tidak ada, Input berfungsi untuk memudahkan user memasukkan nilai variabel dengan cara menginputkannya"
   ]
  },
  {
   "cell_type": "markdown",
   "metadata": {
    "id": "bML5VYfLHyMm"
   },
   "source": [
    "## Apakah tipe data bawaan dari **input()**?"
   ]
  },
  {
   "cell_type": "code",
   "execution_count": 28,
   "metadata": {
    "id": "-Tj5Ri_IKY0T"
   },
   "outputs": [
    {
     "data": {
      "text/plain": [
       "str"
      ]
     },
     "execution_count": 28,
     "metadata": {},
     "output_type": "execute_result"
    }
   ],
   "source": [
    "type(age)"
   ]
  },
  {
   "cell_type": "markdown",
   "metadata": {
    "id": "dgYBT6dzHT5t"
   },
   "source": [
    "## Apakah fungsi dari **end=' '**?"
   ]
  },
  {
   "cell_type": "code",
   "execution_count": null,
   "metadata": {
    "id": "eXsOtcaiHcN0"
   },
   "outputs": [],
   "source": [
    "Parameter end berfungsi untuk mengganti karakter terakhir bawaan yang dicetak di layar. Jadi secara\n",
    "bawaan, setiap kali kita memanggil fungsi print() untuk mencetak sesuatu, python akan mencetak\n",
    "karakter ganti baris ( ) di setiap output sehingga tercipta jarak antar baris."
   ]
  },
  {
   "cell_type": "markdown",
   "metadata": {
    "id": "hbs-kHNxHfM-"
   },
   "source": [
    "## Apakah ada cara lain untuk mendapatkan input dari pengguna selain menggunakan **input()** ? Contohkan!"
   ]
  },
  {
   "cell_type": "code",
   "execution_count": 29,
   "metadata": {
    "id": "KEpYTUIbHetl"
   },
   "outputs": [
    {
     "name": "stdout",
     "output_type": "stream",
     "text": [
      "How old are you? "
     ]
    },
    {
     "name": "stdin",
     "output_type": "stream",
     "text": [
      " 11111\n"
     ]
    }
   ],
   "source": [
    "print(\"How old are you?\", end=' ')\n",
    "age = int(input())"
   ]
  },
  {
   "cell_type": "code",
   "execution_count": 30,
   "metadata": {},
   "outputs": [
    {
     "data": {
      "text/plain": [
       "int"
      ]
     },
     "execution_count": 30,
     "metadata": {},
     "output_type": "execute_result"
    }
   ],
   "source": [
    "type(age)"
   ]
  },
  {
   "cell_type": "markdown",
   "metadata": {
    "id": "uVd2pzOUHoGX"
   },
   "source": [
    "## [Referensi](https://www.programiz.com/python-programming/input-output-import)\n"
   ]
  },
  {
   "cell_type": "markdown",
   "metadata": {
    "id": "M_KPDHSGHgo2"
   },
   "source": [
    "# Exercise 12: Prompting People\n"
   ]
  },
  {
   "cell_type": "markdown",
   "metadata": {
    "id": "h_plF8hhHgo2"
   },
   "source": [
    "## Jelaskan maksud kode per baris"
   ]
  },
  {
   "cell_type": "code",
   "execution_count": 31,
   "metadata": {
    "id": "sNJCAqkpHgo2"
   },
   "outputs": [
    {
     "name": "stdin",
     "output_type": "stream",
     "text": [
      "How old are you?  1234\n",
      "How tall are you?  12345\n",
      "How much do you weight?  123456\n"
     ]
    },
    {
     "name": "stdout",
     "output_type": "stream",
     "text": [
      "So, you're 1234 old, 12345 tall and 123456 heavy.\n"
     ]
    }
   ],
   "source": [
    "age = input(\"How old are you? \") #membuat inputan dengan langsung mendeklarasikan variabel sehingga lebih hemat-\n",
    "height = input(\"How tall are you? \")#ruang  penyimpanan dibandingkan dengan cara seperti code exercise 11\n",
    "weight = input(\"How much do you weight? \")\n",
    "\n",
    "print(f\"So, you're {age} old, {height} tall and {weight} heavy.\")#mengoutputkan menggunakan f string serta didalamnya akan menampilkan-\n",
    "#inputan yang telah diinput user dan di simpan pada masing masing {variabel}"
   ]
  },
  {
   "cell_type": "code",
   "execution_count": 32,
   "metadata": {},
   "outputs": [
    {
     "data": {
      "text/plain": [
       "str"
      ]
     },
     "execution_count": 32,
     "metadata": {},
     "output_type": "execute_result"
    }
   ],
   "source": [
    "type(height)"
   ]
  },
  {
   "cell_type": "markdown",
   "metadata": {
    "id": "lB26TUnSHgo2"
   },
   "source": [
    "## Ketika kita memasukkan nilai ke dalam ( ), akan menghasilkan apa?"
   ]
  },
  {
   "cell_type": "markdown",
   "metadata": {
    "id": "zGht_qGdHgo3"
   },
   "source": [
    "ketika masukan nilai kedalam () maka otomatis hasil inputan user akan berformat string secara default"
   ]
  },
  {
   "cell_type": "markdown",
   "metadata": {
    "id": "8UoYDZfLMkBw"
   },
   "source": [
    "## Apakah cara seperti ini dapat dilakukan? Praktekkan!\n",
    "\n",
    "\n",
    "```\n",
    "print(\"How old are you?\" , input())?\n",
    "```\n",
    "\n"
   ]
  },
  {
   "cell_type": "code",
   "execution_count": 33,
   "metadata": {},
   "outputs": [
    {
     "name": "stdin",
     "output_type": "stream",
     "text": [
      " 122211\n"
     ]
    },
    {
     "name": "stdout",
     "output_type": "stream",
     "text": [
      "How old are you? 122211\n"
     ]
    }
   ],
   "source": [
    "print(\"How old are you?\" , input())"
   ]
  },
  {
   "cell_type": "markdown",
   "metadata": {},
   "source": [
    "BISA"
   ]
  },
  {
   "cell_type": "markdown",
   "metadata": {
    "id": "GnrqihmQIF_c"
   },
   "source": [
    "# Exercise 13: Parameters, Unpacking, Variables\n",
    "Apa yang akan kita lakukan sekarang adalah menulis script yang dapat menerima argumen"
   ]
  },
  {
   "cell_type": "markdown",
   "metadata": {
    "id": "4sIKJ-BGIF_d"
   },
   "source": [
    "## Jelaskan maksud kode per baris (jangan jalankan di .ipynb)"
   ]
  },
  {
   "cell_type": "markdown",
   "metadata": {
    "id": "1PbBp9dZOoxt"
   },
   "source": [
    "## Buatlah file dengan nama ex13.py, kemudian salin kode di atas. Pindah ke direktori file, kemudian jalankan kode di bawah. Apakah berhasil? Apa yang terjadi?\n",
    "\n",
    "\n",
    "```\n",
    "python .\\ex13.py Kalian Semua Keren\n",
    "```\n",
    "\n"
   ]
  },
  {
   "cell_type": "code",
   "execution_count": null,
   "metadata": {},
   "outputs": [],
   "source": [
    "from sys import argv #mengimport argv dari library sys sehingga lebih mudah dan efektif tidak membuat code dari awal\n",
    "\n",
    "# read the WYSS section for how to run this\n",
    "script, first, second, third = argv #medeklarasikan banyaknya variabel argv \n",
    "\n",
    "print(\"The script is called:\", script) #mengoutputkan kalimat yang ditulis di cmd\n",
    "print(\"Your first variable is:\", first)#seperti pada contoh karena sampe third(3) maka ketika diinputkan 3 kalimat maka -\n",
    "print(\"Your second variable is:\", second)#code akan sukses dijalankan dengan output 3 kalimat yang kita inputkan \n",
    "print(\"Your third variable is:\", third)"
   ]
  },
  {
   "cell_type": "markdown",
   "metadata": {
    "id": "Kv4GsnfbQNoX"
   },
   "source": [
    "## Coba masukkan kode seperti di atas, namun kurangi atau lebihkan argumen yang kalian berikan. Apa yang terjadi?"
   ]
  },
  {
   "cell_type": "markdown",
   "metadata": {
    "id": "-lZT5pVQQCs8"
   },
   "source": [
    "Tidak bisa karena code akan berjalan ketika sesuai dengan argv yang diminta yakni input 3 kalimat saja tidak bisa dilebihkan dan dikurangkan\n",
    "jika itu terjadi maka akan error"
   ]
  },
  {
   "cell_type": "markdown",
   "metadata": {
    "id": "zvp_dwvuQcBy"
   },
   "source": [
    "## Buatlah suatu program yang menerima argv dan input secara bersamaan!"
   ]
  },
  {
   "cell_type": "code",
   "execution_count": null,
   "metadata": {
    "id": "u8R_7RFIQfnB"
   },
   "outputs": [],
   "source": [
    "from sys import argv \n",
    "\n",
    "# read the WYSS section for how to run this\n",
    "script, first, second, third = argv \n",
    "\n",
    "print(\"The script is called:\", script) \n",
    "print(\"Your first variable is:\", first)\n",
    "print(\"Your second variable is:\", second)\n",
    "print(\"Your third variable is:\", third)\n",
    "x = input(\"Masukkan nilai x = \")\n",
    "print(x)"
   ]
  },
  {
   "cell_type": "markdown",
   "metadata": {
    "id": "gJ74CWaDPtZM"
   },
   "source": [
    "## Apakah library dan module adalah dua hal yang sama?"
   ]
  },
  {
   "cell_type": "markdown",
   "metadata": {
    "id": "oV8ul5YhIF_e"
   },
   "source": [
    "library merupakan kumpulan yang berisi packages packages yang dijadiin satu sehingga fungsionalitasnya kompleks sedangkan\n",
    "module merupakan lingkup kecil dari library sehingga terbatas tidak seperti library"
   ]
  },
  {
   "cell_type": "markdown",
   "metadata": {
    "id": "3tMQgwybJMPH"
   },
   "source": [
    "# Exercise 14: Prompting And Passing\n",
    "\n"
   ]
  },
  {
   "cell_type": "markdown",
   "metadata": {
    "id": "1m2uU1tRJMPH"
   },
   "source": [
    "## Jelaskan maksud kode per baris (jangan jalankan di .ipynb)"
   ]
  },
  {
   "cell_type": "code",
   "execution_count": null,
   "metadata": {
    "id": "3-s1CdOpJMPI"
   },
   "outputs": [],
   "source": [
    "from sys import argv#mengimport argv dari library sys sehingga lebih mudah dan efektif tidak membuat code dari awal\n",
    "\n",
    "script, user_name = argv  #medeklarasikan banyaknya variabel argv\n",
    "prompt = '> '\n",
    "\n",
    "print(f\"Hi {user_name}, I'm the {script} script.\")#mengoutputkan menggunakan f string serta didalamnya akan menampilkan-\n",
    "print(\"I'd like to ask you a few questions.\")#inputan yang telah diinput user dan di simpan pada masing masing {variabel}\n",
    "print(f\"Do you like me {user_name}?\")\n",
    "likes = input(prompt) #mendeklarasikan likes sesuai dengan inputan user\n",
    "\n",
    "print(f\"Where do you live {user_name}?\")\n",
    "lives = input(prompt)#mendeklarasikan lives sesuai dengan inputan user\n",
    "\n",
    "print(\"What kind of computer do you have?\")\n",
    "computer = input(prompt)#mendeklarasikan computer sesuai dengan inputan user\n",
    "\n",
    "print(f\"\"\"\n",
    "Alright, so you said {likes} about liking me.\n",
    "You live in {lives}. Not sure where that is.\n",
    "And you have a {computer} computer. Nice.\n",
    "\"\"\")#menggunakan \" sebanyak 3 kali diawal dan diakhir yakni untuk membuat output yang berisi kalimat yang panjang"
   ]
  },
  {
   "cell_type": "markdown",
   "metadata": {
    "id": "UqP8fxwaJMPI"
   },
   "source": [
    "## Apakah kalian bisa menjalankan kode di atas? Bagaimana caranya?\n",
    "\n"
   ]
  },
  {
   "cell_type": "markdown",
   "metadata": {
    "id": "Q9PXAdCyJMPJ"
   },
   "source": [
    "Jika di run di ipynb tidak bisa agar bisa dijalankan kalian dapat melakukannya dengan cara mengcopy seluruh codenya dan mempastekan pada \n",
    "notepad/ide pilihan kalian lalu simpan dengan format .py setelah itu code baru bisa di run tanpa error"
   ]
  },
  {
   "cell_type": "markdown",
   "metadata": {
    "id": "6-phWpn-Ryjv"
   },
   "source": [
    "## Editlah kode di atas. Tambahkan argumen **last_name** dan gunakan itu pada script ketika kalian menjalankan programnya di Terminal/CMD! \n",
    "\n",
    "contohnya:\n",
    "\n",
    "\n",
    "```\n",
    "python ex14.py dimas wahyu\n",
    "```\n",
    "\n"
   ]
  },
  {
   "cell_type": "code",
   "execution_count": null,
   "metadata": {
    "id": "QxrvB4DMRyUF"
   },
   "outputs": [],
   "source": [
    "from sys import argv\n",
    "\n",
    "script, user_name, last_name = argv #menambah variabel last_name\n",
    "prompt = '> '\n",
    "\n",
    "print(f\"Hi {user_name} {last_name}, I'm the {script} script.\") #+ {last_name}\n",
    "print(\"I'd like to ask you a few questions.\")\n",
    "print(f\"Do you like me {user_name}?\")\n",
    "likes = input(prompt) \n",
    "\n",
    "print(f\"Where do you live {user_name}?\")\n",
    "lives = input(prompt)\n",
    "\n",
    "print(\"What kind of computer do you have?\")\n",
    "computer = input(prompt)\n",
    "\n",
    "print(f\"\"\"\n",
    "Alright, so you said {likes} about liking me.\n",
    "You live in {lives}. Not sure where that is.\n",
    "And you have a {computer} computer. Nice.\n",
    "\"\"\")"
   ]
  },
  {
   "cell_type": "markdown",
   "metadata": {
    "id": "v80B5ZQ9KTNy"
   },
   "source": [
    "# Exercise 15: Reading Files\n",
    "Hati-hati, dapat menghapus berkas kalian. Jalankan pada cmd/terminal.\n",
    "\n",
    "Latihan ini melibatkan penulisan dua file. Salah satunya adalah file ex15.py biasa yang akan Anda jalankan, tetapi yang lain diberi nama ex15_sample.txt. File kedua ini bukan skrip tetapi file teks biasa yang akan kita baca."
   ]
  },
  {
   "cell_type": "markdown",
   "metadata": {
    "id": "Saj6T6_gc_TS"
   },
   "source": [
    "## file ex15_sample.txt (buat di notepad)\n",
    "\n",
    "\n",
    "\n",
    "```\n",
    "This is stuff I typed into a file.\n",
    "It is really cool stuff.\n",
    "Lots and lots of fun to have in here.\n",
    "```\n",
    "\n"
   ]
  },
  {
   "cell_type": "markdown",
   "metadata": {
    "id": "gi7G4a_uKTNy"
   },
   "source": [
    "## Jelaskan maksud kode per baris (jangan di .ipynb, jalankan di script mode)"
   ]
  },
  {
   "cell_type": "code",
   "execution_count": null,
   "metadata": {
    "id": "kzGgrHDhKTNy"
   },
   "outputs": [],
   "source": [
    "from sys import argv #mengimport argv dari library sys sehingga lebih mudah dan efektif tidak membuat code dari awal\n",
    "\n",
    "script, filename = argv #medeklarasikan banyaknya variabel argv\n",
    "\n",
    "txt = open(filename) #mendeklarasikan txt dengan fungsi untuk membuka file txt\n",
    "\n",
    "print(f\"Here's your file {filename}:\") #f string dengan variabel {filename} didalamnya yang nantinya akan dibaca\n",
    "print(txt.read()) #output untuk membaca file txt\n",
    "\n",
    "print(\"Type the filename again:\")\n",
    "file_again = input(\"> \") #berfungsi untuk menginputkan filename lagi\n",
    "\n",
    "txt_again = open(file_again) #mendeklarasikan txt_again untuk membuka file txt kedua\n",
    "\n",
    "print(txt_again.read()) #membaca file txt kedua"
   ]
  },
  {
   "cell_type": "markdown",
   "metadata": {
    "id": "LDSAJq7qdg4C"
   },
   "source": [
    "## [Referensi](https://www.w3schools.com/python/ref_func_open.asp)"
   ]
  },
  {
   "cell_type": "markdown",
   "metadata": {
    "id": "sj88di8YLw7y"
   },
   "source": [
    "# Exercise 16: Reading And Writing Files\n",
    "Jangan jalankan di .ipynb\n",
    "\n",
    "\n",
    "```\n",
    "• close – Closes the file. Like File->Save.. in your editor.\n",
    "• read – Reads the contents of the file. You can assign the result to a variable.\n",
    "• readline – Reads just one line of a text file.\n",
    "• truncate – Empties the file. Watch out if you care about the file.\n",
    "• write('stuff') – Writes ”stuff” to the file.\n",
    "• seek(0) – Move the read/write location to the beginning of the file.\n",
    "```\n",
    "\n"
   ]
  },
  {
   "cell_type": "markdown",
   "metadata": {
    "id": "0lGOPD_ggxoc"
   },
   "source": [
    "## Buatlah file test.txt, dengan isi,\n",
    "\n",
    "\n",
    "```\n",
    "Halo ini hanya contoh\n",
    "ini baris kedua\n",
    "ini baris ketiga\n",
    "```\n",
    "\n"
   ]
  },
  {
   "cell_type": "markdown",
   "metadata": {
    "id": "i691Sf8ULw7z"
   },
   "source": [
    "## Jelaskan maksud kode per baris (jangan jalankan di file .ipynb)"
   ]
  },
  {
   "cell_type": "code",
   "execution_count": null,
   "metadata": {
    "id": "keEOS60OLw7z"
   },
   "outputs": [],
   "source": [
    "from sys import argv  #mengimport argv dari library sys sehingga lebih mudah dan efektif tidak membuat code dari awal\n",
    "\n",
    "script, filename = argv #medeklarasikan banyaknya variabel argv\n",
    "\n",
    "print(f\"We're going to erase {filename}.\") # menggunakan f string dengan mengoutputkan seluruh yang terdapat dala string termasuk {filename}\n",
    "print(\"If you don't want that, hit CTRL-C (^C).\")\n",
    "print(\"If you do want that, hit RETURN.\")\n",
    "\n",
    "input(\"?\") # meminta input user diakhiri tanda tanya\n",
    "\n",
    "print(\"Opening the file...\")\n",
    "target = open(filename, 'w') # baris 8 membuka filename kemudian terdapat 'w' yang menandakan file dibuka kemudian bisa ditulis (w=write)\n",
    "\n",
    "print(\"Truncating the file. Goodbye!\")\n",
    "target.truncate() #melakukan print dan men-truncate apa yang didalam variabel target\n",
    "\n",
    "print(\"Now I'm going to ask you for three lines.\")\n",
    "\n",
    "line1 = input(\"line1: \")#meminta input untuk setiap baris, dari baris 1 sampai 3\n",
    "line2 = input(\"line2: \")\n",
    "line3 = input(\"line3: \")\n",
    "\n",
    "print(\"I'm going to write these to the file.\")\n",
    "\n",
    "target.write(line1)#menulis setiap line pada variabel target sebanyak 3 baris \n",
    "target.write(\"\\n\")\n",
    "target.write(line2)\n",
    "target.write(\"\\n\")\n",
    "target.write(line3)\n",
    "target.write(\"\\n\")\n",
    "\n",
    "print(\"And finally, we close it.\")#melakukan print dan membaca isi variable target\n",
    "target.close() #.close() sebagai penutup atau program ketika selesai akan ter close\n"
   ]
  },
  {
   "cell_type": "markdown",
   "metadata": {
    "id": "SDrAKq49hzAf"
   },
   "source": [
    "## Lihat pada baris 8. Cari tahu kenapa kita harus menambhkan 'w' sebagai parameter tambahan untuk membuka!"
   ]
  },
  {
   "cell_type": "markdown",
   "metadata": {
    "id": "5zVL5r_ziC8M"
   },
   "source": [
    "fungsi dari w tersebut hanyalah string dengan karakter didalamnya untuk jenis mode file atau ketika kita membuka file maka maka komputer akan\n",
    "membuka filenya sekaligus masuk dalam mode tulis(w = write) atau kita dapat langsung mengedit dan menyimpan perubahannya."
   ]
  },
  {
   "cell_type": "markdown",
   "metadata": {
    "id": "F48ZetqqiDOu"
   },
   "source": [
    "## Selain menggunakan 'w', apa saja yang dapat kita gunakan?"
   ]
  },
  {
   "cell_type": "markdown",
   "metadata": {
    "id": "EPpwbkyfiGKc"
   },
   "source": [
    "dapat menggunakan modifier + sebagai contoh w+ ini akan membaca sekaligus menulis file, kemudian ada juga s, t, U, a, r yang dapat digunakan sesuai dengan kebutuhan"
   ]
  },
  {
   "cell_type": "markdown",
   "metadata": {
    "id": "Q4UYU_geiZLk"
   },
   "source": [
    "## Terlalu banyak pengulangan dalam file ini. Gunakan string, format, dan escape character untuk mencetak line1, line2, dan line3 hanya dengan satu perintah target.write(), bukan enam."
   ]
  },
  {
   "cell_type": "code",
   "execution_count": null,
   "metadata": {
    "id": "-ls0c339iexy"
   },
   "outputs": [],
   "source": [
    "from sys import argv\n",
    "\n",
    "script, filename = argv\n",
    "\n",
    "print(f\"We're going to erase {filename}.\")\n",
    "print(\"If you don't want that, hit CTRL-C (^C).\")\n",
    "print(\"If you do want that, hit RETURN.\")\n",
    "\n",
    "input(\"?\")\n",
    "\n",
    "print(\"Opening the file...\")\n",
    "target = open(filename, 'w') # baris 8\n",
    "\n",
    "print(\"Truncating the file. Goodbye!\")\n",
    "target.truncate()\n",
    "\n",
    "print(\"Now I'm going to ask you for three lines.\")\n",
    "\n",
    "line1 = input(\"line1: \")\n",
    "line2 = input(\"line2: \")\n",
    "line3 = input(\"line3: \")\n",
    "\n",
    "print(\"I'm going to write these to the file.\")\n",
    "\n",
    "target.write(f\"{line1}\\n{line2}\\n{line3}\") #setelah di singkat\n",
    "\n",
    "print(\"And finally, we close it.\")\n",
    "target.close()\n"
   ]
  },
  {
   "cell_type": "markdown",
   "metadata": {
    "id": "3dVH_eyRixtG"
   },
   "source": [
    "## Tulis skrip yang mirip dengan latihan terakhir yang menggunakan read dan argv untuk membaca file yang baru saja Anda buat."
   ]
  },
  {
   "cell_type": "code",
   "execution_count": null,
   "metadata": {
    "id": "6FTboT9Ri1C1"
   },
   "outputs": [],
   "source": [
    "from sys import argv\n",
    "\n",
    "script, filename = argv\n",
    "\n",
    "print(f\"kami akan menghapus {filename}.\")\n",
    "print(\"Jika tidak mau menghapusnya, tekan CTRL-C (^C).\")\n",
    "print(\"Jika ingin menghapusnya, tekan RETURN.\")\n",
    "\n",
    "input(\"?\")\n",
    "\n",
    "print(\"Membuka file...\")\n",
    "target = open(filename, 'w') # baris 8\n",
    "\n",
    "print(\"menghapus file. Goodbye!\")\n",
    "target.truncate()\n",
    "\n",
    "print(\"sekarang saya minta anda menginputkan 3 baris.\")\n",
    "\n",
    "line1 = input(\"baris1: \")\n",
    "line2 = input(\"baris2: \")\n",
    "line3 = input(\"baris3: \")\n",
    "\n",
    "print(\"saya sedang menulisnya ke file.\")\n",
    "\n",
    "target.write(f\"{line1}\\n{line2}\\n{line3}\") #setelah di singkat\n",
    "\n",
    "print(\"dan akhirnya, kami tutup.\")\n",
    "target.close()\n"
   ]
  },
  {
   "cell_type": "markdown",
   "metadata": {
    "id": "nyeQfdj8hl4g"
   },
   "source": [
    "## [Referensi](https://www.programiz.com/python-programming/file-operation)"
   ]
  },
  {
   "cell_type": "markdown",
   "metadata": {
    "id": "5y4yBvNBL2RZ"
   },
   "source": [
    "# Exercise 17: More Files\n",
    "Jangan jalankan di .ipynb"
   ]
  },
  {
   "cell_type": "markdown",
   "metadata": {
    "id": "U_zYabFajdqJ"
   },
   "source": [
    "## Langkah pertama, buka cmd. Kemudian, buat file dengan cara\n",
    "`echo \"This is a test file.\" > test.txt`"
   ]
  },
  {
   "cell_type": "markdown",
   "metadata": {
    "id": "YszfeO_oj9pd"
   },
   "source": [
    "## Kemudian lihat file yang telah dibuat, dengan cara\n",
    "`cat test.txt`"
   ]
  },
  {
   "cell_type": "markdown",
   "metadata": {
    "id": "GQA3oqCcLvTD"
   },
   "source": [
    "## Jelaskan maksud kode per baris, dan jalankan!"
   ]
  },
  {
   "cell_type": "code",
   "execution_count": null,
   "metadata": {
    "id": "3g445a-VLvTD"
   },
   "outputs": [],
   "source": [
    "from os.path import exists #mengimpor exists dari os.path \n",
    "from sys import argv #mengimpor argv dari sys\n",
    "\n",
    "script, from_file, to_file = argv #medeklarasikan banyaknya variabel argv\n",
    "\n",
    "print(f\"Copying from {from_file} to {to_file}\")#melakukan print dan menampilkan nama dari isi variabel \"from_file\" dan \"to_file\"\n",
    "\n",
    "# we could do these two on one line too, how?\n",
    "in_file = open(from_file)#mendeklarasikan variabel \"in_file\" dan \"indata\" untuk kemudian dimasukkan isi dari \"from_file\" \n",
    "indata = in_file.read() # dan membaca file yang di inputkan \n",
    "\n",
    "print(f\"The input file is {len(indata)} bytes long\")#melakukan print dan menampilkan panjang file yang telah di inputkan\n",
    "\n",
    "print(f\"Does the output file exists? {exists(to_file)}\")\n",
    "print(\"Ready, hit RETURN to continue, CTRL-C to abort.\")\n",
    "input() #meminta input user\n",
    "\n",
    "out_file = open(to_file, 'w')#mendeklarasikan variabel \"out_vile\" dan mengisinya dengan \"to_file\" \n",
    "out_file.write(indata)  #kemudian variabel tersebut diisikan dengan \"indata\"\n",
    "print(\"Alright, all done.\")\n",
    "\n",
    "print(\"Alright, all done.\")\n",
    "\n",
    "out_file.close() #menutup \"out_file\" dan \"in_file\"\n",
    "in_file.close()\n"
   ]
  },
  {
   "cell_type": "markdown",
   "metadata": {
    "id": "RnNNwuZGLvTE"
   },
   "source": [
    "## Apakah kalian bisa membuat kode di atas menjadi lebih ringkas? Misanya satu baris? Coba yaaa!\n",
    "\n"
   ]
  },
  {
   "cell_type": "code",
   "execution_count": null,
   "metadata": {
    "id": "CseAjMRiLvTE"
   },
   "outputs": [],
   "source": [
    "#melakukan import module \n",
    "import shutil\n",
    "  \n",
    "#copyfile()\n",
    "shutil.copyfile('from_file.txt','to_file.txt')"
   ]
  },
  {
   "cell_type": "markdown",
   "metadata": {
    "id": "m7XKk5Q3LvTE"
   },
   "source": [
    "## Cari tahu mengapa Anda harus menulis out_file.close() dalam kode."
   ]
  },
  {
   "cell_type": "markdown",
   "metadata": {
    "id": "jvFYF_mgLvTE"
   },
   "source": [
    "File yang sudah terbuka perlu ditutup kembali menggunakan metode close(). Bila Anda tidak menutup file, maka perubahan yang Anda lakukan bisa saja hilang."
   ]
  },
  {
   "cell_type": "markdown",
   "metadata": {
    "id": "U-T_614wMz9u"
   },
   "source": [
    "# Exercise 18: Names, Variables, Code, Functions"
   ]
  },
  {
   "cell_type": "markdown",
   "metadata": {
    "id": "57a96pgVMz9v"
   },
   "source": [
    "## Jelaskan maksud kode per baris"
   ]
  },
  {
   "cell_type": "code",
   "execution_count": null,
   "metadata": {
    "id": "OID-aC-GMz9v"
   },
   "outputs": [],
   "source": [
    "# this one is like your scripts with argv\n",
    "#membuat fungsi \"print_two\" dengan parameter args yang diberi bintang, sehingga args dapat memuat lebih dari 1 variabel \n",
    "def print_two(*args):\n",
    "    arg1, arg2 = args\n",
    "    print(f\"arg1: {arg1}, arg2: {arg2}\")\n",
    "\n",
    "\n",
    "# ok, that *args is actually pointless, we can just do this\n",
    "#membuat fungsi \"print_two\" dengan parameter args 1 kali lagi\n",
    "def print_two_again(arg1, arg2):\n",
    "    print(f\"arg1: {arg1}, arg2: {arg2}\")\n",
    "\n",
    "\n",
    "# this just takes one argument\n",
    "#membuat fungsi \"print_one\" dengan parameter arg1\n",
    "def print_one(arg1):\n",
    "    print(f\"arg1: {arg1}\")\n",
    "\n",
    "\n",
    "# this one takes no arguments\n",
    "#membuat fungsi \"print_none\"\n",
    "def print_none():\n",
    "    print(\"I got nothin'.\")\n",
    "\n",
    "\n",
    "#Empat baris terakhir untuk memanggil fungsi dan memberikan value terhadap parameter yang dimiliki oleh fungsi\n",
    "print_two(\"Zed\", \"Shaw\")\n",
    "print_two_again(\"Zed\", \"Shaw\")\n",
    "print_one(\"First!\")\n",
    "print_none()"
   ]
  },
  {
   "cell_type": "markdown",
   "metadata": {
    "id": "s7LO-nIlnEbj"
   },
   "source": [
    "## Write these checks on an index card and keep it by you while you complete the rest of these exercises\n",
    "\n",
    "1. Did you start your function definition with def?\n",
    "2. Does your function name have only characters and _ (underscore) characters?\n",
    "3. Did you put an open parenthesis ( right after the function name?\n",
    "4. Did you put your arguments after the parenthesis ( separated by commas?\n",
    "5. Did you make each argument unique (meaning no duplicated names)?\n",
    "6. Did you put a close parenthesis and a colon ): after the arguments?\n",
    "7. Did you indent all lines of code you want in the function four spaces? No more, no less.\n",
    "8. Did you ”end” your function by going back to writing with no indent (dedenting we call it)?"
   ]
  },
  {
   "cell_type": "markdown",
   "metadata": {
    "id": "ial6_2kpn1e6"
   },
   "source": [
    "1. Ya, karena di python untuk membuat fungsi dilakukan dengan cara menulis def di awal\n",
    "2. Ya, karena untuk menghindari spasi pada nama fungsi karena aturan menulisnya sama seperti menulis variabel\n",
    "3. Ya, karena untuk memberikan parameter pada fungsi yang dibuat\n",
    "4. Ya, karena untuk memisahkan setiap parameter yang diperlukan dalam fungsi yang telah dibuat\n",
    "5. Ya, karena untuk memudahkan kita ketika membacanya\n",
    "6. Ya, karena setiap argumen harus diakhiri dengan ):\n",
    "7. Ya, karena 4 spasi = 1 tab\n",
    "8. Tidak, karena wajib menggunakan indent"
   ]
  },
  {
   "cell_type": "markdown",
   "metadata": {
    "id": "0UbQjWren1p3"
   },
   "source": [
    "## When you run (”use” or ”call”) a function, check these things:\n",
    "\n",
    "1. Did you call/use/run this function by typing its name?\n",
    "2. Did you put the ( character after the name to run it?\n",
    "3. Did you put the values you want into the parenthesis separated by commas?\n",
    "4. Did you end the function call with a ) character?"
   ]
  },
  {
   "cell_type": "code",
   "execution_count": null,
   "metadata": {
    "id": "GTJid0OVn6Fr"
   },
   "outputs": [],
   "source": [
    "1. Ya, karena untuk menjalankan function harus dipanggil terlebih dahulu\n",
    "2. Ya, tanda \"(\" untuk mengawalinya \n",
    "3. Ya, karena setiap yang ingin dijadikan value harus dipisahkan dengan koma satu dengan yang lainnya\n",
    "4. Ya, tanda \")\" untuk mengakhirinya"
   ]
  },
  {
   "cell_type": "markdown",
   "metadata": {
    "id": "qFQohpDqo8qm"
   },
   "source": [
    "## Warm Up"
   ]
  },
  {
   "cell_type": "markdown",
   "metadata": {
    "id": "vsewvJxzo8qn"
   },
   "source": [
    "#### LESSER OF TWO EVENS: Write a function that returns the lesser of two given numbers *if* both numbers are even, but returns the greater if one or both numbers are odd\n",
    "    lesser_of_two_evens(2,4) --> 2\n",
    "    lesser_of_two_evens(2,5) --> 5"
   ]
  },
  {
   "cell_type": "code",
   "execution_count": 34,
   "metadata": {
    "id": "xPzFQ9pXo8qn",
    "tags": []
   },
   "outputs": [],
   "source": [
    "def lesser_of_two_evens(a,b):\n",
    "    if a%2==0 and b%2==0 :\n",
    "        x=(min(a,b))\n",
    "    else:\n",
    "        x=(max(a,b))\n",
    "    return x"
   ]
  },
  {
   "cell_type": "code",
   "execution_count": 35,
   "metadata": {
    "id": "UKimQPrKo8qp",
    "tags": []
   },
   "outputs": [
    {
     "data": {
      "text/plain": [
       "2"
      ]
     },
     "execution_count": 35,
     "metadata": {},
     "output_type": "execute_result"
    }
   ],
   "source": [
    "# Check\n",
    "lesser_of_two_evens(2,4)"
   ]
  },
  {
   "cell_type": "code",
   "execution_count": 36,
   "metadata": {
    "id": "Nr63F3ago8qp",
    "tags": []
   },
   "outputs": [
    {
     "data": {
      "text/plain": [
       "5"
      ]
     },
     "execution_count": 36,
     "metadata": {},
     "output_type": "execute_result"
    }
   ],
   "source": [
    "# Check\n",
    "lesser_of_two_evens(2,5)"
   ]
  },
  {
   "cell_type": "markdown",
   "metadata": {
    "id": "7sPFlCN6o8qq"
   },
   "source": [
    "#### ANIMAL CRACKERS: Write a function takes a two-word string and returns True if both words begin with same letter\n",
    "    animal_crackers('Levelheaded Llama') --> True\n",
    "    animal_crackers('Crazy Kangaroo') --> False"
   ]
  },
  {
   "cell_type": "code",
   "execution_count": 37,
   "metadata": {
    "id": "BfQPLEybo8qr",
    "tags": []
   },
   "outputs": [],
   "source": [
    "def animal_crackers(text):\n",
    "    wordlist = text.split() \n",
    "    return wordlist[0][0] == wordlist[1][0]"
   ]
  },
  {
   "cell_type": "code",
   "execution_count": 38,
   "metadata": {
    "id": "0x_I-Zxoo8qt",
    "tags": []
   },
   "outputs": [
    {
     "data": {
      "text/plain": [
       "True"
      ]
     },
     "execution_count": 38,
     "metadata": {},
     "output_type": "execute_result"
    }
   ],
   "source": [
    "# Check\n",
    "animal_crackers('Levelheaded Llama')"
   ]
  },
  {
   "cell_type": "code",
   "execution_count": 39,
   "metadata": {
    "id": "pW8KGgUZo8qu",
    "tags": []
   },
   "outputs": [
    {
     "data": {
      "text/plain": [
       "False"
      ]
     },
     "execution_count": 39,
     "metadata": {},
     "output_type": "execute_result"
    }
   ],
   "source": [
    "# Check\n",
    "animal_crackers('Crazy Kangaroo')"
   ]
  },
  {
   "cell_type": "markdown",
   "metadata": {
    "id": "Y7O1mkBho8qv"
   },
   "source": [
    "#### MAKES TWENTY: Given two integers, return True if the sum of the integers is 20 *or* if one of the integers is 20. If not, return False\n",
    "\n",
    "    makes_twenty(20,10) --> True\n",
    "    makes_twenty(12,8) --> True\n",
    "    makes_twenty(2,3) --> False"
   ]
  },
  {
   "cell_type": "code",
   "execution_count": 40,
   "metadata": {
    "id": "drj0vqvUo8qw",
    "tags": []
   },
   "outputs": [],
   "source": [
    "def makes_twenty(x,y):\n",
    "    z = x + y\n",
    "    if x == 20 or x == 20 or z == 20:\n",
    "        print(\"True\")\n",
    "    else:\n",
    "        print(\"False\")\n",
    "    return makes_twenty "
   ]
  },
  {
   "cell_type": "code",
   "execution_count": 41,
   "metadata": {
    "id": "mcU3FzAmo8qx",
    "tags": []
   },
   "outputs": [
    {
     "name": "stdout",
     "output_type": "stream",
     "text": [
      "True\n"
     ]
    },
    {
     "data": {
      "text/plain": [
       "<function __main__.makes_twenty(x, y)>"
      ]
     },
     "execution_count": 41,
     "metadata": {},
     "output_type": "execute_result"
    }
   ],
   "source": [
    "# Check\n",
    "makes_twenty(20,10)"
   ]
  },
  {
   "cell_type": "code",
   "execution_count": 42,
   "metadata": {},
   "outputs": [
    {
     "name": "stdout",
     "output_type": "stream",
     "text": [
      "True\n"
     ]
    },
    {
     "data": {
      "text/plain": [
       "<function __main__.makes_twenty(x, y)>"
      ]
     },
     "execution_count": 42,
     "metadata": {},
     "output_type": "execute_result"
    }
   ],
   "source": [
    "# Check\n",
    "makes_twenty(12,8)"
   ]
  },
  {
   "cell_type": "code",
   "execution_count": 43,
   "metadata": {
    "id": "6XKDf-Pyo8qy",
    "tags": []
   },
   "outputs": [
    {
     "name": "stdout",
     "output_type": "stream",
     "text": [
      "False\n"
     ]
    },
    {
     "data": {
      "text/plain": [
       "<function __main__.makes_twenty(x, y)>"
      ]
     },
     "execution_count": 43,
     "metadata": {},
     "output_type": "execute_result"
    }
   ],
   "source": [
    "# Check\n",
    "makes_twenty(2,3)"
   ]
  },
  {
   "cell_type": "markdown",
   "metadata": {
    "id": "maxVMDnRo8qz"
   },
   "source": [
    "## Problems"
   ]
  },
  {
   "cell_type": "markdown",
   "metadata": {
    "id": "PjN0IT7xo8qz"
   },
   "source": [
    "#### OLD MACDONALD: Write a function that capitalizes the first and fourth letters of a name\n",
    "     \n",
    "    old_macdonald('macdonald') --> MacDonald\n",
    "    \n",
    "Note: `'macdonald'.capitalize()` returns `'Macdonald'`"
   ]
  },
  {
   "cell_type": "code",
   "execution_count": 44,
   "metadata": {
    "id": "YjlbOv0Lo8q0",
    "tags": []
   },
   "outputs": [],
   "source": [
    "def old_macdonald(name): \n",
    "    if len(name) > 3:\n",
    "        return name[0].capitalize()+ name[1:3] + name[3].capitalize()+ name[4:]"
   ]
  },
  {
   "cell_type": "code",
   "execution_count": 45,
   "metadata": {
    "id": "PmY98NIAo8q0",
    "tags": []
   },
   "outputs": [
    {
     "data": {
      "text/plain": [
       "'MacDonald'"
      ]
     },
     "execution_count": 45,
     "metadata": {},
     "output_type": "execute_result"
    }
   ],
   "source": [
    "# Check\n",
    "old_macdonald('macdonald')"
   ]
  },
  {
   "cell_type": "markdown",
   "metadata": {
    "id": "BkocM0tHo8q0"
   },
   "source": [
    "#### MASTER YODA: Given a sentence, return a sentence with the words reversed\n",
    "\n",
    "    master_yoda('I am home') --> 'home am I'\n",
    "    master_yoda('We are ready') --> 'ready are We'\n",
    "    \n",
    "Note: The .join() method may be useful here. The .join() method allows you to join together strings in a list with some connector string. For example, some uses of the .join() method:\n",
    "\n",
    "    >>> \"--\".join(['a','b','c'])\n",
    "    >>> 'a--b--c'\n",
    "\n",
    "This means if you had a list of words you wanted to turn back into a sentence, you could just join them with a single space string:\n",
    "\n",
    "    >>> \" \".join(['Hello','world'])\n",
    "    >>> \"Hello world\""
   ]
  },
  {
   "cell_type": "code",
   "execution_count": 46,
   "metadata": {
    "id": "f3IqrMmco8q1",
    "tags": []
   },
   "outputs": [],
   "source": [
    "def master_yoda(name): \n",
    "    x = ' '.join(name.split()[::-1])\n",
    "    return x"
   ]
  },
  {
   "cell_type": "code",
   "execution_count": 47,
   "metadata": {
    "id": "uiuG8Oceo8q1",
    "tags": []
   },
   "outputs": [
    {
     "data": {
      "text/plain": [
       "'home am I'"
      ]
     },
     "execution_count": 47,
     "metadata": {},
     "output_type": "execute_result"
    }
   ],
   "source": [
    "# Check\n",
    "master_yoda('I am home')"
   ]
  },
  {
   "cell_type": "code",
   "execution_count": 48,
   "metadata": {
    "id": "R4GdNfnjo8q2",
    "tags": []
   },
   "outputs": [
    {
     "data": {
      "text/plain": [
       "'ready are We'"
      ]
     },
     "execution_count": 48,
     "metadata": {},
     "output_type": "execute_result"
    }
   ],
   "source": [
    "# Check\n",
    "master_yoda('We are ready')"
   ]
  },
  {
   "cell_type": "markdown",
   "metadata": {
    "id": "f-PsSEIEo8q2"
   },
   "source": [
    "#### ALMOST THERE: Given an integer n, return True if n is within 10 of either 100 or 200\n",
    "\n",
    "    almost_there(90) --> True\n",
    "    almost_there(104) --> True\n",
    "    almost_there(150) --> False\n",
    "    almost_there(209) --> True\n",
    "    \n",
    "NOTE: `abs(num)` returns the absolute value of a number"
   ]
  },
  {
   "cell_type": "code",
   "execution_count": 49,
   "metadata": {
    "id": "0Zxlzhyko8q2",
    "tags": []
   },
   "outputs": [],
   "source": [
    "def almost_there(x):\n",
    "    a=abs(200-x)\n",
    "    b=abs(100-x)\n",
    "    if ( a<=10 or b<=10):\n",
    "        print(\"True\")\n",
    "    else:\n",
    "        print(\"False\")\n",
    "    return"
   ]
  },
  {
   "cell_type": "code",
   "execution_count": 50,
   "metadata": {},
   "outputs": [
    {
     "name": "stdout",
     "output_type": "stream",
     "text": [
      "True\n"
     ]
    }
   ],
   "source": [
    "# Check\n",
    "almost_there(90)"
   ]
  },
  {
   "cell_type": "code",
   "execution_count": 51,
   "metadata": {
    "id": "pcXeiqdOo8q3",
    "tags": []
   },
   "outputs": [
    {
     "name": "stdout",
     "output_type": "stream",
     "text": [
      "True\n"
     ]
    }
   ],
   "source": [
    "# Check\n",
    "almost_there(104)"
   ]
  },
  {
   "cell_type": "code",
   "execution_count": 52,
   "metadata": {
    "id": "T_H4X0JSo8q3",
    "tags": []
   },
   "outputs": [
    {
     "name": "stdout",
     "output_type": "stream",
     "text": [
      "False\n"
     ]
    }
   ],
   "source": [
    "# Check\n",
    "almost_there(150)"
   ]
  },
  {
   "cell_type": "code",
   "execution_count": 25,
   "metadata": {
    "id": "wFLfckSzo8q3",
    "tags": []
   },
   "outputs": [
    {
     "name": "stdout",
     "output_type": "stream",
     "text": [
      "True\n"
     ]
    }
   ],
   "source": [
    "# Check\n",
    "almost_there(209)"
   ]
  },
  {
   "cell_type": "markdown",
   "metadata": {
    "id": "6ONWCJguNCh5"
   },
   "source": [
    "# Exercise 19: Functions And Variables"
   ]
  },
  {
   "cell_type": "markdown",
   "metadata": {
    "id": "erJyCZYQNCh6"
   },
   "source": [
    "## Jelaskan maksud kode per baris"
   ]
  },
  {
   "cell_type": "code",
   "execution_count": null,
   "metadata": {
    "id": "AqRXzSEZNCh7"
   },
   "outputs": [],
   "source": [
    "#membuat fungsi value cheese_and_crackers dengan parameter cheese_count, boxes_of_crackers\n",
    "def cheese_and_crackers(cheese_count, boxes_of_crackers):\n",
    "    print(f\"You have {cheese_count} cheeses!\")\n",
    "    print(f\"You have {boxes_of_crackers} boxes of crackers!\")\n",
    "    print(\"Man that's enought for a party!\")\n",
    "    print(\"Get a blanket.\\n\")\n",
    "\n",
    "\n",
    "print(\"We can just give the function numbers directly:\")\n",
    "# memanggil fungsi kemudian menambahkan variabel valuenya = (20, 30) \n",
    "cheese_and_crackers(20, 30)\n",
    "\n",
    "print(\"OR, we can use variables from our script:\")\n",
    "# Mencetak kalimat dengan menambahkan variabel amount_of_cheese, amount_of_crackers\n",
    "amount_of_cheese = 10\n",
    "amount_of_crackers = 50\n",
    "\n",
    "#membuat fungsi cheese_and_crackers dengan parameter amount_of_cheese dan amount_of_crackers\n",
    "cheese_and_crackers(amount_of_cheese, amount_of_crackers)\n",
    "\n",
    "#memanggil fungsi dan memberikan operasi aritmatika penjumlahan pada setiap parameternya sebagai value\n",
    "print(\"We can even do math inside too:\")\n",
    "cheese_and_crackers(10 + 20, 5 + 6)\n",
    "\n",
    "#melakukan print dan memanggil fungsi untuk nantinya +1000 pada setiap parameternya\n",
    "print(\"And we can combine the two, variables and math:\")\n",
    "cheese_and_crackers(amount_of_cheese + 100, amount_of_crackers + 1000)\n"
   ]
  },
  {
   "cell_type": "markdown",
   "metadata": {
    "id": "AOq96W3oNe92"
   },
   "source": [
    "# Exercise 20: Functions And Files\n",
    "Jangan jalankan di .ipynb"
   ]
  },
  {
   "cell_type": "markdown",
   "metadata": {
    "id": "IPZJd0gaNe92"
   },
   "source": [
    "## Jelaskan maksud kode per baris\n",
    "buat file baru, beri nama ex20.py"
   ]
  },
  {
   "cell_type": "code",
   "execution_count": null,
   "metadata": {
    "id": "tlKKcKOiNe93"
   },
   "outputs": [],
   "source": [
    "from sys import argv #mengimport argv dari library sys sehingga lebih mudah dan efektif tidak membuat code dari awal\n",
    "\n",
    "script, input_file = argv #medeklarasikan banyaknya variabel argv\n",
    "\n",
    "\n",
    "def print_all(f):\n",
    "    print(f.read()) #membuat fungsi yang bertujuan untuk membaca value dari parameternya ketika dipanggil\n",
    "\n",
    "\n",
    "def rewind(f):\n",
    "    f.seek(0) #untuk melihat file\n",
    "\n",
    "\n",
    "def print_a_line(line_count, f):\n",
    "    print(line_count, f.readline())\n",
    "\n",
    "\n",
    "current_file = open(input_file) #mendeklarasikan variabel \"current_file\" untuk membuka \"input_file\"\n",
    "\n",
    "print(\"First let's print the whole file:\\n\")\n",
    "\n",
    "print_all(current_file) \n",
    "\n",
    "print(\"Now let's rewind, kind of like a tape.\")\n",
    "\n",
    "rewind(current_file) #memanggil fungsi rewind dan mengisi  parameternya dengan \"current_file\"\n",
    "\n",
    "print(\"Let's print three lines:\")\n",
    "\n",
    "current_line = 1\n",
    "print_a_line(current_line, current_file )#memanggil fungsi print_a_line dengan current_line = 1\n",
    "\n",
    "current_line = current_line + 1\n",
    "print_a_line(current_line, current_file) #memanggil fungsi print_a_line dengan current_line = +1 karena ditambah 1 maka akan = 2\n",
    "\n",
    "current_line = current_line + 1\n",
    "print_a_line(current_line, current_file) #memanggil fungsi print_a_line dengan current_line = +1 lagi karena sebelumnya bernilai 2 makan +1 = 3\n"
   ]
  },
  {
   "cell_type": "markdown",
   "metadata": {
    "id": "NT5JtcNPqiaq"
   },
   "source": [
    "Jalankan code dengan cara\n",
    "\n",
    "\n",
    "```\n",
    "python ex20.py test.txt\n",
    "```\n",
    "\n"
   ]
  }
 ],
 "metadata": {
  "colab": {
   "collapsed_sections": [
    "ZFnnRzziGmWJ",
    "M_KPDHSGHgo2"
   ],
   "provenance": []
  },
  "kernelspec": {
   "display_name": "Python 3 (ipykernel)",
   "language": "python",
   "name": "python3"
  },
  "language_info": {
   "codemirror_mode": {
    "name": "ipython",
    "version": 3
   },
   "file_extension": ".py",
   "mimetype": "text/x-python",
   "name": "python",
   "nbconvert_exporter": "python",
   "pygments_lexer": "ipython3",
   "version": "3.10.4"
  },
  "vscode": {
   "interpreter": {
    "hash": "7ff291596393bdbe51c39e9b71d2a364c4c9645ea33158d3bc65ed92a72075ea"
   }
  }
 },
 "nbformat": 4,
 "nbformat_minor": 4
}
